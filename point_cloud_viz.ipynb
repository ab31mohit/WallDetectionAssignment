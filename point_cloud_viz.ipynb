{
 "cells": [
  {
   "cell_type": "code",
   "execution_count": 1,
   "id": "6bb99253",
   "metadata": {},
   "outputs": [
    {
     "name": "stdout",
     "output_type": "stream",
     "text": [
      "Jupyter environment detected. Enabling Open3D WebVisualizer.\n",
      "[Open3D INFO] WebRTC GUI backend enabled.\n",
      "[Open3D INFO] WebRTCWindowSystem: HTTP handshake server disabled.\n"
     ]
    }
   ],
   "source": [
    "import open3d as o3d\n",
    "import numpy as np"
   ]
  },
  {
   "cell_type": "code",
   "execution_count": 2,
   "id": "0f867048",
   "metadata": {},
   "outputs": [
    {
     "name": "stdout",
     "output_type": "stream",
     "text": [
      "PointCloud with 27564 points.\n",
      "Shape of points (27564, 3)\n",
      "Shape of colors (0, 3)\n"
     ]
    }
   ],
   "source": [
    "# Load pcd file\n",
    "pc_pcd = o3d.io.read_point_cloud(\"wall_detection_results/all_walls_combined.pcd\")\n",
    "# pc_pcd = o3d.io.read_point_cloud(\"pointcloud.pcd\")\n",
    "# pc_pcd = o3d.io.read_point_cloud(\"accumulated_pcl_site.pcd\")\n",
    "\n",
    "# Point Cloud info\n",
    "print(pc_pcd)\n",
    "print('Shape of points', np.asarray(pc_pcd.points).shape)\n",
    "print('Shape of colors', np.asarray(pc_pcd.colors).shape) # no color data"
   ]
  },
  {
   "cell_type": "code",
   "execution_count": 3,
   "id": "69402a0c",
   "metadata": {},
   "outputs": [],
   "source": [
    "# visualization\n",
    "o3d.visualization.draw_geometries([pc_pcd])"
   ]
  }
 ],
 "metadata": {
  "kernelspec": {
   "display_name": "Python 3",
   "language": "python",
   "name": "python3"
  },
  "language_info": {
   "codemirror_mode": {
    "name": "ipython",
    "version": 3
   },
   "file_extension": ".py",
   "mimetype": "text/x-python",
   "name": "python",
   "nbconvert_exporter": "python",
   "pygments_lexer": "ipython3",
   "version": "3.8.10"
  }
 },
 "nbformat": 4,
 "nbformat_minor": 5
}
